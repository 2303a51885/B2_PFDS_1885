{
  "nbformat": 4,
  "nbformat_minor": 0,
  "metadata": {
    "colab": {
      "provenance": [],
      "authorship_tag": "ABX9TyPFvYAtBgEEgXJGRATXe60d",
      "include_colab_link": true
    },
    "kernelspec": {
      "name": "python3",
      "display_name": "Python 3"
    },
    "language_info": {
      "name": "python"
    }
  },
  "cells": [
    {
      "cell_type": "markdown",
      "metadata": {
        "id": "view-in-github",
        "colab_type": "text"
      },
      "source": [
        "<a href=\"https://colab.research.google.com/github/2303a51885/B2_PFDS_1885/blob/main/PFDS_Lab04.ipynb\" target=\"_parent\"><img src=\"https://colab.research.google.com/assets/colab-badge.svg\" alt=\"Open In Colab\"/></a>"
      ]
    },
    {
      "cell_type": "markdown",
      "source": [
        "# **Sales Data Cleaning**\n",
        "Objective:\n",
        "Clean sales data by handling missing values and calculating totals for\n",
        "large transactions."
      ],
      "metadata": {
        "id": "jcw0dct7Q_o4"
      }
    },
    {
      "cell_type": "markdown",
      "source": [
        "**Creating/Importing the data**"
      ],
      "metadata": {
        "id": "7e-7xttHRJ8C"
      }
    },
    {
      "cell_type": "code",
      "source": [
        "import pandas as pd\n",
        "# Sample Sales Data\n",
        "sales_data= pd.DataFrame({\n",
        "    \"Invoice_No\": [101, 102, 103, 104, 105, 106, 107, 108],\n",
        "    \"Customer_Name\": [\"Alice\", \"Bob\", \"Charlie\", \"David\", \"Eva\", \"Frank\", \"Grace\", \"Helen\"],\n",
        "    \"Product\": [\"Laptop\", \"Mouse\", None, \"Keyboard\", \"Monitor\", \"Laptop\", \"Headset\", \"Mouse\"],\n",
        "    \"Quantity\": [2, 5, 3, None, 1, 2, 4, 6],\n",
        "    \"Price\": [50000, 800, 1500, 1200, None, 52000, 2000, None],\n",
        "    \"Total\": [100000, None, None, None, None, None, 8000, 4800]\n",
        "})\n",
        "\n",
        "print(\"Sales Data:\")\n",
        "print(sales_data)"
      ],
      "metadata": {
        "colab": {
          "base_uri": "https://localhost:8080/"
        },
        "id": "t9Ox5KdsQ6C9",
        "outputId": "7de4329e-9ee7-4f7c-cfd8-f2741b1e3fcf"
      },
      "execution_count": 14,
      "outputs": [
        {
          "output_type": "stream",
          "name": "stdout",
          "text": [
            "Sales Data:\n",
            "   Invoice_No Customer_Name   Product  Quantity    Price     Total\n",
            "0         101         Alice    Laptop       2.0  50000.0  100000.0\n",
            "1         102           Bob     Mouse       5.0    800.0       NaN\n",
            "2         103       Charlie      None       3.0   1500.0       NaN\n",
            "3         104         David  Keyboard       NaN   1200.0       NaN\n",
            "4         105           Eva   Monitor       1.0      NaN       NaN\n",
            "5         106         Frank    Laptop       2.0  52000.0       NaN\n",
            "6         107         Grace   Headset       4.0   2000.0    8000.0\n",
            "7         108         Helen     Mouse       6.0      NaN    4800.0\n"
          ]
        }
      ]
    },
    {
      "cell_type": "markdown",
      "source": [
        "**Cleaning the data**"
      ],
      "metadata": {
        "id": "5a-7n_ogRV8S"
      }
    },
    {
      "cell_type": "code",
      "execution_count": 13,
      "metadata": {
        "colab": {
          "base_uri": "https://localhost:8080/"
        },
        "id": "pk08uVjKPaZj",
        "outputId": "2baaf451-61f8-494d-d582-8d4955f021b1"
      },
      "outputs": [
        {
          "output_type": "stream",
          "name": "stdout",
          "text": [
            "Cleaned Sales Data:\n",
            "   Invoice_No Customer_Name  Product  Quantity    Price     Total\n",
            "0         101         Alice   Laptop       2.0  50000.0  100000.0\n",
            "1         102           Bob    Mouse       5.0    800.0    4000.0\n",
            "4         105           Eva  Monitor       1.0  26200.0   26200.0\n",
            "5         106         Frank   Laptop       2.0  52000.0  104000.0\n",
            "6         107         Grace  Headset       4.0   2000.0    8000.0\n",
            "\n",
            "Transactions with Total > 1000:\n",
            "   Invoice_No Customer_Name  Product  Quantity    Price     Total\n",
            "0         101         Alice   Laptop       2.0  50000.0  100000.0\n",
            "1         102           Bob    Mouse       5.0    800.0    4000.0\n",
            "4         105           Eva  Monitor       1.0  26200.0   26200.0\n",
            "5         106         Frank   Laptop       2.0  52000.0  104000.0\n",
            "6         107         Grace  Headset       4.0   2000.0    8000.0\n",
            "7         108         Helen    Mouse       6.0  26200.0    4800.0\n"
          ]
        }
      ],
      "source": [
        "\n",
        "\n",
        "# 1. Remove rows with missing Product or Quantity\n",
        "sales_data = sales_data.dropna(subset=[\"Product\", \"Quantity\"])\n",
        "\n",
        "# 2. Fill missing Price with mean\n",
        "sales_data[\"Price\"] = sales_data[\"Price\"].fillna(sales_data[\"Price\"].mean())\n",
        "\n",
        "# 3. Calculate missing Total = Quantity × Price\n",
        "sales_data[\"Total\"] = sales_data.apply(\n",
        "    lambda row: row[\"Quantity\"] * row[\"Price\"] if pd.isna(row[\"Total\"]) else row[\"Total\"],\n",
        "    axis=1\n",
        ")\n",
        "\n",
        "# 4. Display all records with Total > 1000\n",
        "large_transactions = sales_data[sales_data[\"Total\"] > 1000]\n",
        "\n",
        "print(\"Cleaned Sales Data:\")\n",
        "print(sales_data.head())\n",
        "\n",
        "print(\"\\nTransactions with Total > 1000:\")\n",
        "print(large_transactions)\n"
      ]
    },
    {
      "cell_type": "markdown",
      "source": [
        "# **Job Applicants Filtering**\n",
        "Objective:\n",
        "Clean applicant data and identify experienced Python-skilled candidates"
      ],
      "metadata": {
        "id": "oGjMYneiRc_E"
      }
    },
    {
      "cell_type": "markdown",
      "source": [
        "**Creating/Importing the data**"
      ],
      "metadata": {
        "id": "TmYIUpvDRq5_"
      }
    },
    {
      "cell_type": "code",
      "source": [
        "# Sample Applicants Data\n",
        "applicants_data = pd.DataFrame({\n",
        "    \"Applicant_ID\": [1, 2, 3, 4, 5, 6, 7, 8],\n",
        "    \"Name\": [\"John\", \"Priya\", \"Ahmed\", \"Sophia\", \"Li Wei\", \"Carlos\", \"Nina\", \"Raj\"],\n",
        "    \"Degree\": [\"B.Tech\", \"MCA\", \"B.Sc\", \"M.Tech\", \"B.Tech\", \"MBA\", \"M.Sc\", \"B.Tech\"],\n",
        "    \"Experience_Years\": [3, None, 1, 5, None, 7, 0, 2],\n",
        "    \"Python_Score\": [85, 92, None, 78, 95, 88, 60, None],\n",
        "    \"Status\": [\"Applied\", \"Interview\", \"Applied\", \"Rejected\", \"Applied\", \"Hired\", \"Applied\", \"Interview\"]\n",
        "})\n",
        "\n",
        "print(\"\\nApplicants Data:\")\n",
        "print(applicants_data)\n"
      ],
      "metadata": {
        "colab": {
          "base_uri": "https://localhost:8080/"
        },
        "id": "vuQl26ntQe2M",
        "outputId": "7e342de6-0156-41d7-eeb8-765293b31281"
      },
      "execution_count": 11,
      "outputs": [
        {
          "output_type": "stream",
          "name": "stdout",
          "text": [
            "\n",
            "Applicants Data:\n",
            "   Applicant_ID    Name  Degree  Experience_Years  Python_Score     Status\n",
            "0             1    John  B.Tech               3.0          85.0    Applied\n",
            "1             2   Priya     MCA               NaN          92.0  Interview\n",
            "2             3   Ahmed    B.Sc               1.0           NaN    Applied\n",
            "3             4  Sophia  M.Tech               5.0          78.0   Rejected\n",
            "4             5  Li Wei  B.Tech               NaN          95.0    Applied\n",
            "5             6  Carlos     MBA               7.0          88.0      Hired\n",
            "6             7    Nina    M.Sc               0.0          60.0    Applied\n",
            "7             8     Raj  B.Tech               2.0           NaN  Interview\n"
          ]
        }
      ]
    },
    {
      "cell_type": "markdown",
      "source": [
        "**Cleaning the data**"
      ],
      "metadata": {
        "id": "IJyVD3HVRzB1"
      }
    },
    {
      "cell_type": "code",
      "source": [
        "# 1. Drop rows missing Python_Score\n",
        "applicants_data = applicants_data.dropna(subset=[\"Python_Score\"])\n",
        "\n",
        "# 2. Replace missing Experience_Years with 0\n",
        "applicants_data[\"Experience_Years\"] = applicants_data[\"Experience_Years\"].fillna(0)\n",
        "\n",
        "# 3. Filter applicants with Python_Score > 80 and Experience_Years > 2\n",
        "filtered_applicants = applicants_data[\n",
        "    (applicants_data[\"Python_Score\"] > 80) & (applicants_data[\"Experience_Years\"] > 2)\n",
        "]\n",
        "\n",
        "print(\"Cleaned Applicant Data:\")\n",
        "print(applicants_data.head())\n",
        "\n",
        "print(\"\\nQualified Applicants (Python_Score > 80 & Experience_Years > 2):\")\n",
        "print(filtered_applicants)\n"
      ],
      "metadata": {
        "colab": {
          "base_uri": "https://localhost:8080/"
        },
        "id": "y2Ux-AC1Qrm0",
        "outputId": "98990f1a-e3d2-48ae-df6b-49769d07ef42"
      },
      "execution_count": 12,
      "outputs": [
        {
          "output_type": "stream",
          "name": "stdout",
          "text": [
            "Cleaned Applicant Data:\n",
            "   Applicant_ID    Name  Degree  Experience_Years  Python_Score     Status\n",
            "0             1    John  B.Tech               3.0          85.0    Applied\n",
            "1             2   Priya     MCA               0.0          92.0  Interview\n",
            "3             4  Sophia  M.Tech               5.0          78.0   Rejected\n",
            "4             5  Li Wei  B.Tech               0.0          95.0    Applied\n",
            "5             6  Carlos     MBA               7.0          88.0      Hired\n",
            "\n",
            "Qualified Applicants (Python_Score > 80 & Experience_Years > 2):\n",
            "   Applicant_ID    Name  Degree  Experience_Years  Python_Score   Status\n",
            "0             1    John  B.Tech               3.0          85.0  Applied\n",
            "5             6  Carlos     MBA               7.0          88.0    Hired\n"
          ]
        }
      ]
    }
  ]
}