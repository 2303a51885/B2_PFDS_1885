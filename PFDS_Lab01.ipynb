{
  "nbformat": 4,
  "nbformat_minor": 0,
  "metadata": {
    "colab": {
      "provenance": [],
      "authorship_tag": "ABX9TyPV99eGMF8kNeJwnLpDZ8KQ",
      "include_colab_link": true
    },
    "kernelspec": {
      "name": "python3",
      "display_name": "Python 3"
    },
    "language_info": {
      "name": "python"
    }
  },
  "cells": [
    {
      "cell_type": "markdown",
      "metadata": {
        "id": "view-in-github",
        "colab_type": "text"
      },
      "source": [
        "<a href=\"https://colab.research.google.com/github/2303a51885/B2_PFDS_1885/blob/main/PFDS_Lab01.ipynb\" target=\"_parent\"><img src=\"https://colab.research.google.com/assets/colab-badge.svg\" alt=\"Open In Colab\"/></a>"
      ]
    },
    {
      "cell_type": "markdown",
      "source": [
        "#Develop a clear understanding of recursion by visualizing the function call stack and return values during the factorial calculation.\n"
      ],
      "metadata": {
        "id": "3UAQYOQo7NL-"
      }
    },
    {
      "cell_type": "code",
      "source": [
        "def func(n,l=1):\n",
        "  print(\" We are in level \",l ,\"with n is\",n)\n",
        "  if n<=1:\n",
        "    print(\"Returning from base level\")\n",
        "    return n\n",
        "  else:\n",
        "    print(\"going into level \",l+1)\n",
        "    p=n*func(n-1,l=l+1)\n",
        "    print(\"Returning Value \",p ,\"from level \",l)\n",
        "    return p\n",
        "\n",
        "n=int(input(\"Enter a number between 1-10\"))\n",
        "if n>0 and n<11:\n",
        "  a=func(n)\n",
        "  print(\"Therfore the factorial of \",n,\"is \",a)\n",
        "else:\n",
        "  print(\"Inavlid input retry\")"
      ],
      "metadata": {
        "colab": {
          "base_uri": "https://localhost:8080/"
        },
        "id": "dPHJo02g6hKS",
        "outputId": "27c3f829-9c33-4ce3-fafe-f30168ebc865"
      },
      "execution_count": 8,
      "outputs": [
        {
          "output_type": "stream",
          "name": "stdout",
          "text": [
            "Enter a number between 1-105\n",
            " We are in level  1 with n is 5\n",
            "going into level  2\n",
            " We are in level  2 with n is 4\n",
            "going into level  3\n",
            " We are in level  3 with n is 3\n",
            "going into level  4\n",
            " We are in level  4 with n is 2\n",
            "going into level  5\n",
            " We are in level  5 with n is 1\n",
            "Returning from base level\n",
            "Returning Value  2 from level  4\n",
            "Returning Value  6 from level  3\n",
            "Returning Value  24 from level  2\n",
            "Returning Value  120 from level  1\n",
            "Therfore the factorial of  5 is  120\n"
          ]
        }
      ]
    },
    {
      "cell_type": "code",
      "source": [
        "def factorial_recursive(n):\n",
        "    \"\"\"Recursive factorial\"\"\"\n",
        "    if n < 0:\n",
        "        raise ValueError(\"Negative numbers not allowed\")\n",
        "    if n == 0 or n == 1:\n",
        "        return 1\n",
        "    return n * factorial_recursive(n - 1)\n",
        "\n",
        "def factorial_iterative(n):\n",
        "    \"\"\"Iterative factorial\"\"\"\n",
        "    if n < 0:\n",
        "        raise ValueError(\"Negative numbers not allowed\")\n",
        "    result = 1\n",
        "    for i in range(2, n + 1):\n",
        "        result *= i\n",
        "    return result\n",
        "\n",
        "# Test both implementations\n",
        "\n",
        "n = 5\n",
        "print(f\"Recursive factorial of {n} = {factorial_recursive(n)}\")\n",
        "print(f\"Iterative factorial of {n} = {factorial_iterative(n)}\")"
      ],
      "metadata": {
        "colab": {
          "base_uri": "https://localhost:8080/"
        },
        "id": "bC-YGrx3HlSW",
        "outputId": "d30f9058-f864-484f-9fe3-9a07ab6893cb"
      },
      "execution_count": 9,
      "outputs": [
        {
          "output_type": "stream",
          "name": "stdout",
          "text": [
            "Recursive factorial of 5 = 120\n",
            "Iterative factorial of 5 = 120\n"
          ]
        }
      ]
    }
  ]
}