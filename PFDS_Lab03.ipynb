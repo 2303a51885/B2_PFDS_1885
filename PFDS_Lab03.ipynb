{
  "nbformat": 4,
  "nbformat_minor": 0,
  "metadata": {
    "colab": {
      "provenance": []
    },
    "kernelspec": {
      "name": "python3",
      "display_name": "Python 3"
    },
    "language_info": {
      "name": "python"
    }
  },
  "cells": [
    {
      "cell_type": "code",
      "execution_count": null,
      "metadata": {
        "colab": {
          "base_uri": "https://localhost:8080/"
        },
        "id": "3dKK014A0msU",
        "outputId": "317d05a0-1f93-4d82-b020-780e67559a55"
      },
      "outputs": [
        {
          "output_type": "stream",
          "name": "stdout",
          "text": [
            "[[1 2 3]\n",
            " [3 4 5]]\n",
            "[[5 6 7]\n",
            " [7 8 0]]\n"
          ]
        }
      ],
      "source": [
        "import numpy as np\n",
        "arr1=np.array([[1,2,3],[3,4,5]])\n",
        "arr2=np.array([[5,6,7],[7,8,0]])\n",
        "print(arr1,arr2,sep=\"\\n\")"
      ]
    },
    {
      "cell_type": "code",
      "source": [
        "print(\"Addition :\\n\",np.add(arr1,arr2))\n",
        "print(\"Subtraction \\n\",np.subtract(arr1,arr2))\n",
        "print(\"Multiplication \\n\",np.multiply(arr1,arr2))\n",
        "print(\"Division \\n\",np.divide(arr1,arr2))"
      ],
      "metadata": {
        "colab": {
          "base_uri": "https://localhost:8080/"
        },
        "id": "r-APXDA_10s5",
        "outputId": "8ff5ebb5-2de8-46cf-8cf8-042a016b3a07"
      },
      "execution_count": null,
      "outputs": [
        {
          "output_type": "stream",
          "name": "stdout",
          "text": [
            "Addition :\n",
            " [[ 6  8 10]\n",
            " [10 12  5]]\n",
            "Subtraction \n",
            " [[-4 -4 -4]\n",
            " [-4 -4  5]]\n",
            "Multiplication \n",
            " [[ 5 12 21]\n",
            " [21 32  0]]\n",
            "Division \n",
            " [[0.2        0.33333333 0.42857143]\n",
            " [0.42857143 0.5               inf]]\n"
          ]
        },
        {
          "output_type": "stream",
          "name": "stderr",
          "text": [
            "/tmp/ipython-input-1712915949.py:4: RuntimeWarning: divide by zero encountered in divide\n",
            "  print(\"Division \\n\",np.divide(arr1,arr2))\n"
          ]
        }
      ]
    },
    {
      "cell_type": "code",
      "source": [
        "arr1=[[1,2],[3,4]]\n",
        "arr2=[[6,8],[9,10]]\n",
        "print(np.dot(arr1,arr2))"
      ],
      "metadata": {
        "colab": {
          "base_uri": "https://localhost:8080/"
        },
        "id": "6affWcrq4D83",
        "outputId": "b763bc01-b561-4907-ac50-5fb4d935b7e0"
      },
      "execution_count": null,
      "outputs": [
        {
          "output_type": "stream",
          "name": "stdout",
          "text": [
            "[[24 28]\n",
            " [54 64]]\n"
          ]
        }
      ]
    },
    {
      "cell_type": "markdown",
      "source": [
        "# Create a python script takes user i/p for name and marks .Writes into a file and display all entries"
      ],
      "metadata": {
        "id": "TTtczIcb4tI-"
      }
    },
    {
      "cell_type": "code",
      "source": [
        "import csv\n",
        "n=int(input(\"Enter number of inputs  :\"))\n",
        "with open(\"file_cls.csv\",\"w\",newline=\"\") as f:\n",
        "    wr=csv.writer(f)\n",
        "    wr.writerow([\"Name\",\"Marks\"])\n",
        "    for i in range(n):\n",
        "      a=input(\"Enter name  :\")\n",
        "      b=int(input(\"Enter marks  :\"))\n",
        "      wr.writerow([a,b])\n",
        "with open(\"file_cls.csv\",\"r\",newline=\"\") as f:\n",
        "    r=csv.reader(f)\n",
        "    for i in r:\n",
        "      print(i)"
      ],
      "metadata": {
        "colab": {
          "base_uri": "https://localhost:8080/"
        },
        "id": "Fnnm5Vrg4Up_",
        "outputId": "f5d33b80-c469-49a1-e355-b4ffc7a72e29"
      },
      "execution_count": null,
      "outputs": [
        {
          "output_type": "stream",
          "name": "stdout",
          "text": [
            "Enter number of inputs3\n",
            "Enter name  :Srikar\n",
            "Enter marks  :19\n",
            "Enter name  :abhi\n",
            "Enter marks  :15\n",
            "Enter name  :banda \n",
            "Enter marks  :20\n",
            "['Name', 'Marks']\n",
            "['Srikar', '19']\n",
            "['abhi', '15']\n",
            "['banda ', '20']\n"
          ]
        }
      ]
    }
  ]
}