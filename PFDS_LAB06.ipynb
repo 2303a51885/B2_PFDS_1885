{
  "nbformat": 4,
  "nbformat_minor": 0,
  "metadata": {
    "colab": {
      "provenance": [],
      "authorship_tag": "ABX9TyMsbUglXDbM7DeSfjDBK+la",
      "include_colab_link": true
    },
    "kernelspec": {
      "name": "python3",
      "display_name": "Python 3"
    },
    "language_info": {
      "name": "python"
    }
  },
  "cells": [
    {
      "cell_type": "markdown",
      "metadata": {
        "id": "view-in-github",
        "colab_type": "text"
      },
      "source": [
        "<a href=\"https://colab.research.google.com/github/2303a51885/B2_PFDS_1885/blob/main/PFDS_LAB06.ipynb\" target=\"_parent\"><img src=\"https://colab.research.google.com/assets/colab-badge.svg\" alt=\"Open In Colab\"/></a>"
      ]
    },
    {
      "cell_type": "code",
      "source": [
        "import pandas as pd\n",
        "import numpy as np\n",
        "\n",
        "# Step 1: Create a raw Employee dataset with issues\n",
        "data = {\n",
        "    'Emp_ID': [101, 102, 103, 104, 105, 102, 106],\n",
        "    'Name': ['Alice', 'Bob', 'Charlie', 'David', 'Eva', 'Bob', None],\n",
        "    'Department': ['HR', 'IT', 'Finance', None, 'IT', 'IT', 'Finance'],\n",
        "    'Salary': ['50000', '60000', None, '70000', 'abc', '60000', '55000'],  # salary issues\n",
        "    'Joining_Date': ['2022-01-15', '2021-07-20', '2023-03-10', 'Invalid', '2020-11-05', '2021-07-20', '2022-08-25']\n",
        "}\n",
        "\n",
        "df = pd.DataFrame(data)\n",
        "\n",
        "print(\"Original Raw Dataset:\\n\", df, \"\\n\")\n",
        "\n",
        "# -------------------------------------------------------\n",
        "# Step 2: Drop duplicate rows\n",
        "df = df.drop_duplicates()\n",
        "print(\"After Removing Duplicates:\\n\", df, \"\\n\")\n",
        "\n",
        "# -------------------------------------------------------\n",
        "# Step 3: Handle missing values\n",
        "# Fill missing 'Name' with 'Unknown'\n",
        "df['Name'] = df['Name'].fillna('Unknown')\n",
        "\n",
        "# Fill missing Department with mode (most frequent)\n",
        "df['Department'] = df['Department'].fillna(df['Department'].mode()[0])\n",
        "\n",
        "# -------------------------------------------------------\n",
        "# Step 4: Fix Salary column (convert to numeric, coerce errors to NaN)\n",
        "df['Salary'] = pd.to_numeric(df['Salary'], errors='coerce')\n",
        "\n",
        "# Replace missing/invalid Salary with median\n",
        "df['Salary'] = df['Salary'].fillna(df['Salary'].median())\n",
        "\n",
        "# -------------------------------------------------------\n",
        "# Step 5: Fix Joining_Date column (convert to datetime, handle errors)\n",
        "df['Joining_Date'] = pd.to_datetime(df['Joining_Date'], errors='coerce')\n",
        "\n",
        "# Fill invalid/missing dates with today's date\n",
        "df['Joining_Date'] = df['Joining_Date'].fillna(pd.Timestamp.today())\n",
        "\n",
        "# -------------------------------------------------------\n",
        "# Step 6: Rename columns for consistency\n",
        "df.rename(columns={\n",
        "    'Emp_ID': 'EmployeeID',\n",
        "    'Name': 'EmployeeName',\n",
        "    'Department': 'Dept',\n",
        "    'Salary': 'Salary',\n",
        "    'Joining_Date': 'JoiningDate'\n",
        "}, inplace=True)\n",
        "\n",
        "# -------------------------------------------------------\n",
        "# Final Cleaned Dataset\n",
        "print(\"Final Cleaned Employee Dataset:\\n\", df)\n",
        "print(\"\\nData Types:\\n\", df.dtypes)\n"
      ],
      "metadata": {
        "colab": {
          "base_uri": "https://localhost:8080/"
        },
        "id": "4P3wCLd2Q0X8",
        "outputId": "e742f300-9020-4950-9801-f7157cc2ab00"
      },
      "execution_count": 4,
      "outputs": [
        {
          "output_type": "stream",
          "name": "stdout",
          "text": [
            "Original Raw Dataset:\n",
            "    Emp_ID     Name Department Salary Joining_Date\n",
            "0     101    Alice         HR  50000   2022-01-15\n",
            "1     102      Bob         IT  60000   2021-07-20\n",
            "2     103  Charlie    Finance   None   2023-03-10\n",
            "3     104    David       None  70000      Invalid\n",
            "4     105      Eva         IT    abc   2020-11-05\n",
            "5     102      Bob         IT  60000   2021-07-20\n",
            "6     106     None    Finance  55000   2022-08-25 \n",
            "\n",
            "After Removing Duplicates:\n",
            "    Emp_ID     Name Department Salary Joining_Date\n",
            "0     101    Alice         HR  50000   2022-01-15\n",
            "1     102      Bob         IT  60000   2021-07-20\n",
            "2     103  Charlie    Finance   None   2023-03-10\n",
            "3     104    David       None  70000      Invalid\n",
            "4     105      Eva         IT    abc   2020-11-05\n",
            "6     106     None    Finance  55000   2022-08-25 \n",
            "\n",
            "Final Cleaned Employee Dataset:\n",
            "    EmployeeID EmployeeName     Dept   Salary                JoiningDate\n",
            "0         101        Alice       HR  50000.0 2022-01-15 00:00:00.000000\n",
            "1         102          Bob       IT  60000.0 2021-07-20 00:00:00.000000\n",
            "2         103      Charlie  Finance  57500.0 2023-03-10 00:00:00.000000\n",
            "3         104        David  Finance  70000.0 2025-09-18 05:19:29.117805\n",
            "4         105          Eva       IT  57500.0 2020-11-05 00:00:00.000000\n",
            "6         106      Unknown  Finance  55000.0 2022-08-25 00:00:00.000000\n",
            "\n",
            "Data Types:\n",
            " EmployeeID               int64\n",
            "EmployeeName            object\n",
            "Dept                    object\n",
            "Salary                 float64\n",
            "JoiningDate     datetime64[ns]\n",
            "dtype: object\n"
          ]
        }
      ]
    },
    {
      "cell_type": "code",
      "execution_count": 1,
      "metadata": {
        "colab": {
          "base_uri": "https://localhost:8080/"
        },
        "id": "kTEGh5zCP2PX",
        "outputId": "0b4ec4a2-a09f-45b5-c0c4-81ae48708447"
      },
      "outputs": [
        {
          "output_type": "stream",
          "name": "stdout",
          "text": [
            "Original Sales Dataset:\n",
            "   TransactionID Customer Product  Amount        Date\n",
            "0            101    Alice  Laptop     800  2025-09-01\n",
            "1            102      Bob  Mobile     500  2025-09-02\n",
            "2            103  Charlie  Tablet     300  2025-09-03\n",
            "3            104    David  Laptop     800  2025-09-04\n",
            "4            105      Eva  Mobile     500  2025-09-05\n",
            "5            102      Bob  Mobile     500  2025-09-02\n",
            "6            104    David  Laptop     800  2025-09-04\n",
            "\n",
            "Duplicate Records:\n",
            "   TransactionID Customer Product  Amount        Date\n",
            "5            102      Bob  Mobile     500  2025-09-02\n",
            "6            104    David  Laptop     800  2025-09-04\n",
            "\n",
            "Cleaned Sales Dataset (Duplicates Removed):\n",
            "   TransactionID Customer Product  Amount        Date\n",
            "0            101    Alice  Laptop     800  2025-09-01\n",
            "1            102      Bob  Mobile     500  2025-09-02\n",
            "2            103  Charlie  Tablet     300  2025-09-03\n",
            "3            104    David  Laptop     800  2025-09-04\n",
            "4            105      Eva  Mobile     500  2025-09-05\n"
          ]
        }
      ],
      "source": [
        "import pandas as pd\n",
        "\n",
        "# Step 1: Create a Sales dataset with duplicate transaction entries\n",
        "data = {\n",
        "    'TransactionID': [101, 102, 103, 104, 105, 102, 104],  # duplicate IDs for 102 & 104\n",
        "    'Customer': ['Alice', 'Bob', 'Charlie', 'David', 'Eva', 'Bob', 'David'],\n",
        "    'Product': ['Laptop', 'Mobile', 'Tablet', 'Laptop', 'Mobile', 'Mobile', 'Laptop'],\n",
        "    'Amount': [800, 500, 300, 800, 500, 500, 800],\n",
        "    'Date': ['2025-09-01', '2025-09-02', '2025-09-03', '2025-09-04', '2025-09-05',\n",
        "             '2025-09-02', '2025-09-04']\n",
        "}\n",
        "\n",
        "sales_df = pd.DataFrame(data)\n",
        "\n",
        "print(\"Original Sales Dataset:\")\n",
        "print(sales_df)\n",
        "\n",
        "# Step 2: Identify duplicates\n",
        "duplicates = sales_df[sales_df.duplicated()]\n",
        "print(\"\\nDuplicate Records:\")\n",
        "print(duplicates)\n",
        "\n",
        "# Step 3: Remove duplicates\n",
        "cleaned_sales = sales_df.drop_duplicates()\n",
        "\n",
        "print(\"\\nCleaned Sales Dataset (Duplicates Removed):\")\n",
        "print(cleaned_sales)\n"
      ]
    },
    {
      "cell_type": "code",
      "source": [
        "import pandas as pd\n",
        "\n",
        "# Step 1: Create Employee dataset with incorrect data types\n",
        "data = {\n",
        "    'EmployeeID': [1, 2, 3, 4, 5],\n",
        "    'Name': ['Alice', 'Bob', 'Charlie', 'David', 'Eva'],\n",
        "    'Salary': ['50000', '60000', '55000', '70000', '65000'],  # stored as strings\n",
        "    'Joining_Date': ['2022-01-15', '2021-07-20', '2023-03-10', '2020-11-05', '2022-08-25']  # string format\n",
        "}\n",
        "\n",
        "employee_df = pd.DataFrame(data)\n",
        "\n",
        "print(\"Original Employee Dataset:\")\n",
        "print(employee_df.dtypes)\n",
        "print(employee_df)\n",
        "\n",
        "# Step 2: Convert Salary to numeric\n",
        "employee_df['Salary'] = pd.to_numeric(employee_df['Salary'])\n",
        "\n",
        "# Step 3: Convert Joining_Date to datetime\n",
        "employee_df['Joining_Date'] = pd.to_datetime(employee_df['Joining_Date'])\n",
        "\n",
        "print(\"\\nCleaned Employee Dataset with Correct Data Types:\")\n",
        "print(employee_df.dtypes)\n",
        "print(employee_df)\n"
      ],
      "metadata": {
        "colab": {
          "base_uri": "https://localhost:8080/"
        },
        "id": "rT_Wm8IJQWe6",
        "outputId": "9dc1075a-2421-4ad9-89ca-1d98a523bcc4"
      },
      "execution_count": 2,
      "outputs": [
        {
          "output_type": "stream",
          "name": "stdout",
          "text": [
            "Original Employee Dataset:\n",
            "EmployeeID       int64\n",
            "Name            object\n",
            "Salary          object\n",
            "Joining_Date    object\n",
            "dtype: object\n",
            "   EmployeeID     Name Salary Joining_Date\n",
            "0           1    Alice  50000   2022-01-15\n",
            "1           2      Bob  60000   2021-07-20\n",
            "2           3  Charlie  55000   2023-03-10\n",
            "3           4    David  70000   2020-11-05\n",
            "4           5      Eva  65000   2022-08-25\n",
            "\n",
            "Cleaned Employee Dataset with Correct Data Types:\n",
            "EmployeeID               int64\n",
            "Name                    object\n",
            "Salary                   int64\n",
            "Joining_Date    datetime64[ns]\n",
            "dtype: object\n",
            "   EmployeeID     Name  Salary Joining_Date\n",
            "0           1    Alice   50000   2022-01-15\n",
            "1           2      Bob   60000   2021-07-20\n",
            "2           3  Charlie   55000   2023-03-10\n",
            "3           4    David   70000   2020-11-05\n",
            "4           5      Eva   65000   2022-08-25\n"
          ]
        }
      ]
    }
  ]
}