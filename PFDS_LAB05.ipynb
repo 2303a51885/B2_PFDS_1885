{
  "nbformat": 4,
  "nbformat_minor": 0,
  "metadata": {
    "colab": {
      "provenance": [],
      "authorship_tag": "ABX9TyPTcrKt7aashZqBb2LQiE/3",
      "include_colab_link": true
    },
    "kernelspec": {
      "name": "python3",
      "display_name": "Python 3"
    },
    "language_info": {
      "name": "python"
    }
  },
  "cells": [
    {
      "cell_type": "markdown",
      "metadata": {
        "id": "view-in-github",
        "colab_type": "text"
      },
      "source": [
        "<a href=\"https://colab.research.google.com/github/2303a51885/B2_PFDS_1885/blob/main/PFDS_LAB05.ipynb\" target=\"_parent\"><img src=\"https://colab.research.google.com/assets/colab-badge.svg\" alt=\"Open In Colab\"/></a>"
      ]
    },
    {
      "cell_type": "code",
      "execution_count": 1,
      "metadata": {
        "colab": {
          "base_uri": "https://localhost:8080/"
        },
        "id": "cqZ8kEHgKy63",
        "outputId": "ae9f56b3-bd00-429d-add4-aadc28ddce28"
      },
      "outputs": [
        {
          "output_type": "stream",
          "name": "stdout",
          "text": [
            "   id     name  age\n",
            "0   3  Charlie   24\n",
            "1   4    David   25\n"
          ]
        }
      ],
      "source": [
        "import pandas as pd\n",
        "\n",
        "# Sample DataFrames\n",
        "df1 = pd.DataFrame({\n",
        "    'id': [1, 2, 3, 4],\n",
        "    'name': ['Alice', 'Bob', 'Charlie', 'David']\n",
        "})\n",
        "\n",
        "df2 = pd.DataFrame({\n",
        "    'id': [3, 4, 5, 6],\n",
        "    'age': [24, 25, 23, 22]\n",
        "})\n",
        "\n",
        "# Inner Join (only common IDs)\n",
        "result = pd.merge(df1, df2, on='id', how='inner')\n",
        "print(result)\n"
      ]
    },
    {
      "cell_type": "code",
      "source": [
        "result = pd.merge(df1, df2, on='id', how='left')\n",
        "print(result)\n"
      ],
      "metadata": {
        "colab": {
          "base_uri": "https://localhost:8080/"
        },
        "id": "LMXg1DRSLjER",
        "outputId": "e992db90-0803-45fc-f655-1005d222c97a"
      },
      "execution_count": 2,
      "outputs": [
        {
          "output_type": "stream",
          "name": "stdout",
          "text": [
            "   id     name   age\n",
            "0   1    Alice   NaN\n",
            "1   2      Bob   NaN\n",
            "2   3  Charlie  24.0\n",
            "3   4    David  25.0\n"
          ]
        }
      ]
    },
    {
      "cell_type": "code",
      "source": [
        "result = pd.merge(df1, df2, on='id', how='right')\n",
        "print(result)\n"
      ],
      "metadata": {
        "colab": {
          "base_uri": "https://localhost:8080/"
        },
        "id": "LIFa53xmLmMJ",
        "outputId": "d654763c-93d9-4e98-d9fc-6639de8c2f99"
      },
      "execution_count": 3,
      "outputs": [
        {
          "output_type": "stream",
          "name": "stdout",
          "text": [
            "   id     name  age\n",
            "0   3  Charlie   24\n",
            "1   4    David   25\n",
            "2   5      NaN   23\n",
            "3   6      NaN   22\n"
          ]
        }
      ]
    },
    {
      "cell_type": "code",
      "source": [
        "result = pd.merge(df1, df2, on='id', how='outer')\n",
        "print(result)\n"
      ],
      "metadata": {
        "colab": {
          "base_uri": "https://localhost:8080/"
        },
        "id": "y5zJzSHNLoBd",
        "outputId": "d5965ee4-6574-4a3a-c461-2b197f4ccc32"
      },
      "execution_count": 4,
      "outputs": [
        {
          "output_type": "stream",
          "name": "stdout",
          "text": [
            "   id     name   age\n",
            "0   1    Alice   NaN\n",
            "1   2      Bob   NaN\n",
            "2   3  Charlie  24.0\n",
            "3   4    David  25.0\n",
            "4   5      NaN  23.0\n",
            "5   6      NaN  22.0\n"
          ]
        }
      ]
    },
    {
      "cell_type": "code",
      "source": [
        "df3 = pd.DataFrame({\n",
        "    'salary': [50000, 60000, 70000, 80000]\n",
        "}, index=[1, 2, 3, 4])\n",
        "\n",
        "# Join df1 with df3 on index\n",
        "result = df1.join(df3, on='id')\n",
        "print(result)\n"
      ],
      "metadata": {
        "colab": {
          "base_uri": "https://localhost:8080/"
        },
        "id": "nQDRCfGALpsg",
        "outputId": "eaf79025-31f9-4906-dc9e-6b1cc66377cf"
      },
      "execution_count": 5,
      "outputs": [
        {
          "output_type": "stream",
          "name": "stdout",
          "text": [
            "   id     name  salary\n",
            "0   1    Alice   50000\n",
            "1   2      Bob   60000\n",
            "2   3  Charlie   70000\n",
            "3   4    David   80000\n"
          ]
        }
      ]
    },
    {
      "cell_type": "code",
      "source": [
        "import pandas as pd\n",
        "\n",
        "# -------------------------------\n",
        "# Step 1: Create Datasets\n",
        "# -------------------------------\n",
        "\n",
        "# Products dataset\n",
        "products = pd.DataFrame({\n",
        "    'product_id': [101, 102, 103, 104, 105],\n",
        "    'product_name': ['Laptop', 'Mouse', 'Keyboard', 'Monitor', 'Printer'],\n",
        "    'category': ['Electronics', 'Accessories', 'Accessories', 'Electronics', 'Electronics'],\n",
        "    'price': [70000, 800, 1500, 12000, 9000]\n",
        "})\n",
        "print(\"Products Dataset:\\n\", products, \"\\n\")\n",
        "\n",
        "# Sales dataset\n",
        "sales = pd.DataFrame({\n",
        "    'sale_id': [1, 2, 3, 4, 5, 6, 7],\n",
        "    'product_id': [101, 102, 103, 101, 105, 106, 104],  # 106 doesn't exist in Products\n",
        "    'quantity': [2, 5, 3, 1, 4, 2, 1]\n",
        "})\n",
        "print(\"Sales Dataset:\\n\", sales, \"\\n\")\n",
        "\n",
        "\n",
        "inner = pd.merge(sales, products, on='product_id', how='inner')\n",
        "print(\"Inner Join:\\n\", inner, \"\\n\")\n",
        "\n",
        "merged_outer = pd.merge(sales, products, on='product_id', how='outer')\n",
        "print(\"Outer Join:\\n\", merged_outer, \"\\n\")\n",
        "\n",
        "inner['revenue'] = inner['quantity'] * inner['price']\n",
        "print(\"Merged Dataset with Revenue:\\n\", inner, \"\\n\")\n",
        "\n",
        "# Total Revenue\n",
        "total_revenue = inner['revenue'].sum()\n",
        "print(\"Total Revenue:\", total_revenue, \"\\n\")\n",
        "\n",
        "# Average Price of Products Sold\n",
        "avg_price = inner['price'].mean()\n",
        "print(\"Average Price of Sold Products:\", avg_price, \"\\n\")\n",
        "\n",
        "# Product-wise Sales & Revenue\n",
        "product_sales = inner.groupby('product_name').agg(\n",
        "    total_quantity=('quantity', 'sum'),\n",
        "    total_revenue=('revenue', 'sum')\n",
        ").reset_index()\n",
        "print(\"Product-wise Sales:\\n\", product_sales, \"\\n\")\n",
        "\n",
        "# Category-wise Sales & Revenue\n",
        "category_sales = inner.groupby('category').agg(\n",
        "    total_quantity=('quantity', 'sum'),\n",
        "    total_revenue=('revenue', 'sum')\n",
        ").reset_index()\n",
        "print(\"Category-wise Sales:\\n\", category_sales, \"\\n\")\n",
        "\n",
        "# Best-Selling Category\n",
        "best_category = category_sales.loc[category_sales['total_revenue'].idxmax()]\n",
        "print(\"Best-Selling Category:\", best_category['category'], \"\\n\")\n",
        "\n",
        "\n",
        "\n"
      ],
      "metadata": {
        "colab": {
          "base_uri": "https://localhost:8080/"
        },
        "id": "-3cu-g7gLvAJ",
        "outputId": "9a301e41-17ce-4f2d-ad4c-32b96814c933"
      },
      "execution_count": 7,
      "outputs": [
        {
          "output_type": "stream",
          "name": "stdout",
          "text": [
            "Products Dataset:\n",
            "    product_id product_name     category  price\n",
            "0         101       Laptop  Electronics  70000\n",
            "1         102        Mouse  Accessories    800\n",
            "2         103     Keyboard  Accessories   1500\n",
            "3         104      Monitor  Electronics  12000\n",
            "4         105      Printer  Electronics   9000 \n",
            "\n",
            "Sales Dataset:\n",
            "    sale_id  product_id  quantity\n",
            "0        1         101         2\n",
            "1        2         102         5\n",
            "2        3         103         3\n",
            "3        4         101         1\n",
            "4        5         105         4\n",
            "5        6         106         2\n",
            "6        7         104         1 \n",
            "\n",
            "Inner Join:\n",
            "    sale_id  product_id  quantity product_name     category  price\n",
            "0        1         101         2       Laptop  Electronics  70000\n",
            "1        2         102         5        Mouse  Accessories    800\n",
            "2        3         103         3     Keyboard  Accessories   1500\n",
            "3        4         101         1       Laptop  Electronics  70000\n",
            "4        5         105         4      Printer  Electronics   9000\n",
            "5        7         104         1      Monitor  Electronics  12000 \n",
            "\n",
            "Outer Join:\n",
            "    sale_id  product_id  quantity product_name     category    price\n",
            "0        1         101         2       Laptop  Electronics  70000.0\n",
            "1        4         101         1       Laptop  Electronics  70000.0\n",
            "2        2         102         5        Mouse  Accessories    800.0\n",
            "3        3         103         3     Keyboard  Accessories   1500.0\n",
            "4        7         104         1      Monitor  Electronics  12000.0\n",
            "5        5         105         4      Printer  Electronics   9000.0\n",
            "6        6         106         2          NaN          NaN      NaN \n",
            "\n",
            "Merged Dataset with Revenue:\n",
            "    sale_id  product_id  quantity product_name     category  price  revenue\n",
            "0        1         101         2       Laptop  Electronics  70000   140000\n",
            "1        2         102         5        Mouse  Accessories    800     4000\n",
            "2        3         103         3     Keyboard  Accessories   1500     4500\n",
            "3        4         101         1       Laptop  Electronics  70000    70000\n",
            "4        5         105         4      Printer  Electronics   9000    36000\n",
            "5        7         104         1      Monitor  Electronics  12000    12000 \n",
            "\n",
            "Total Revenue: 266500 \n",
            "\n",
            "Average Price of Sold Products: 27216.666666666668 \n",
            "\n",
            "Product-wise Sales:\n",
            "   product_name  total_quantity  total_revenue\n",
            "0     Keyboard               3           4500\n",
            "1       Laptop               3         210000\n",
            "2      Monitor               1          12000\n",
            "3        Mouse               5           4000\n",
            "4      Printer               4          36000 \n",
            "\n",
            "Category-wise Sales:\n",
            "       category  total_quantity  total_revenue\n",
            "0  Accessories               8           8500\n",
            "1  Electronics               8         258000 \n",
            "\n",
            "Best-Selling Category: Electronics \n",
            "\n"
          ]
        }
      ]
    },
    {
      "cell_type": "code",
      "source": [
        "import pandas as pd\n",
        "\n",
        "# -------------------------------\n",
        "# Step 1: Create Datasets\n",
        "# -------------------------------\n",
        "teachers = pd.DataFrame({\n",
        "    'teacher_id': [1, 2, 3, 4],\n",
        "    'teacher_name': ['Alice', 'Bob', 'Charlie', 'David'],\n",
        "    'department': ['Math', 'Science', 'Math', 'English']\n",
        "})\n",
        "print(\"Teachers Dataset:\\n\", teachers, \"\\n\")\n",
        "\n",
        "courses = pd.DataFrame({\n",
        "    'course_id': [101, 102, 103, 104, 105, 106],\n",
        "    'course_name': ['Algebra', 'Biology', 'Geometry', 'Physics', 'Literature', 'Calculus'],\n",
        "    'teacher_id': [1, 2, 1, 2, 4, 1],   # Charlie has no course\n",
        "    'credits': [3, 4, 3, 4, 2, 3]\n",
        "})\n",
        "print(\"Courses Dataset:\\n\", courses, \"\\n\")\n",
        "\n",
        "\n",
        "# -------------------------------\n",
        "# Step 2: Merge Teachers & Courses\n",
        "# -------------------------------\n",
        "# Inner Join → only teachers with assigned courses\n",
        "merged_inner = pd.merge(courses, teachers, on='teacher_id', how='inner')\n",
        "print(\"Inner Join (teachers with courses):\\n\", merged_inner, \"\\n\")\n",
        "\n",
        "# Left Join → all teachers (shows who has no courses)\n",
        "merged_left = pd.merge(teachers, courses, on='teacher_id', how='left')\n",
        "print(\"Left Join (all teachers, even without courses):\\n\", merged_left, \"\\n\")\n",
        "\n",
        "\n",
        "# -------------------------------\n",
        "# Step 3: Compute Statistics\n",
        "# -------------------------------\n",
        "# Average courses per teacher\n",
        "course_count = courses.groupby('teacher_id')['course_id'].count()\n",
        "avg_courses = course_count.mean()\n",
        "print(\"Average Courses per Teacher:\", avg_courses, \"\\n\")\n",
        "\n",
        "# Department-wise workload\n",
        "dept_workload = merged_inner.groupby('department').agg(\n",
        "    total_courses=('course_id', 'count'),\n",
        "    total_credits=('credits', 'sum')\n",
        ").reset_index()\n",
        "print(\"Department-wise Workload:\\n\", dept_workload, \"\\n\")\n",
        "\n"
      ],
      "metadata": {
        "colab": {
          "base_uri": "https://localhost:8080/"
        },
        "id": "6pHhGR9DNqUr",
        "outputId": "81157fdc-c19c-4f99-a64e-7dbccc629952"
      },
      "execution_count": 8,
      "outputs": [
        {
          "output_type": "stream",
          "name": "stdout",
          "text": [
            "Teachers Dataset:\n",
            "    teacher_id teacher_name department\n",
            "0           1        Alice       Math\n",
            "1           2          Bob    Science\n",
            "2           3      Charlie       Math\n",
            "3           4        David    English \n",
            "\n",
            "Courses Dataset:\n",
            "    course_id course_name  teacher_id  credits\n",
            "0        101     Algebra           1        3\n",
            "1        102     Biology           2        4\n",
            "2        103    Geometry           1        3\n",
            "3        104     Physics           2        4\n",
            "4        105  Literature           4        2\n",
            "5        106    Calculus           1        3 \n",
            "\n",
            "Inner Join (teachers with courses):\n",
            "    course_id course_name  teacher_id  credits teacher_name department\n",
            "0        101     Algebra           1        3        Alice       Math\n",
            "1        102     Biology           2        4          Bob    Science\n",
            "2        103    Geometry           1        3        Alice       Math\n",
            "3        104     Physics           2        4          Bob    Science\n",
            "4        105  Literature           4        2        David    English\n",
            "5        106    Calculus           1        3        Alice       Math \n",
            "\n",
            "Left Join (all teachers, even without courses):\n",
            "    teacher_id teacher_name department  course_id course_name  credits\n",
            "0           1        Alice       Math      101.0     Algebra      3.0\n",
            "1           1        Alice       Math      103.0    Geometry      3.0\n",
            "2           1        Alice       Math      106.0    Calculus      3.0\n",
            "3           2          Bob    Science      102.0     Biology      4.0\n",
            "4           2          Bob    Science      104.0     Physics      4.0\n",
            "5           3      Charlie       Math        NaN         NaN      NaN\n",
            "6           4        David    English      105.0  Literature      2.0 \n",
            "\n",
            "Average Courses per Teacher: 2.0 \n",
            "\n",
            "Department-wise Workload:\n",
            "   department  total_courses  total_credits\n",
            "0    English              1              2\n",
            "1       Math              3              9\n",
            "2    Science              2              8 \n",
            "\n"
          ]
        }
      ]
    }
  ]
}