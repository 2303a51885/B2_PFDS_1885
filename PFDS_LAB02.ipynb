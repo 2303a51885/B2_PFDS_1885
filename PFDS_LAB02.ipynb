{
  "nbformat": 4,
  "nbformat_minor": 0,
  "metadata": {
    "colab": {
      "provenance": [],
      "authorship_tag": "ABX9TyP2F6NFXaXksR4vipBJlSJt",
      "include_colab_link": true
    },
    "kernelspec": {
      "name": "python3",
      "display_name": "Python 3"
    },
    "language_info": {
      "name": "python"
    }
  },
  "cells": [
    {
      "cell_type": "markdown",
      "metadata": {
        "id": "view-in-github",
        "colab_type": "text"
      },
      "source": [
        "<a href=\"https://colab.research.google.com/github/2303a51885/B2_PFDS_1885/blob/main/PFDS_LAB02.ipynb\" target=\"_parent\"><img src=\"https://colab.research.google.com/assets/colab-badge.svg\" alt=\"Open In Colab\"/></a>"
      ]
    },
    {
      "cell_type": "markdown",
      "source": [
        "# **Use NumPy arrays to manage and analyze monthly temperature readings for a city.**"
      ],
      "metadata": {
        "id": "yl8gFYLMMgzQ"
      }
    },
    {
      "cell_type": "code",
      "source": [
        "import numpy as np\n",
        "\n",
        "temps_c = np.array([12.5, 15.2, 20.1, 25.3, 30.5, 35.0,\n",
        "                    33.8, 32.1, 28.4, 22.0, 18.1, 14.3])\n",
        "\n",
        "months = np.array([\n",
        "    \"Jan\", \"Feb\", \"Mar\", \"Apr\", \"May\", \"Jun\",\n",
        "    \"Jul\", \"Aug\", \"Sep\", \"Oct\", \"Nov\", \"Dec\"\n",
        "])\n",
        "\n",
        "avg_temp = np.mean(temps_c)\n",
        "hottest_month = months[np.argmax(temps_c)]\n",
        "coldest_month = months[np.argmin(temps_c)]\n",
        "\n",
        "temps_norm = (temps_c - temps_c.min()) / (temps_c.max() - temps_c.min())\n",
        "\n",
        "\n",
        "above_avg_months = months[temps_c > avg_temp]\n",
        "\n",
        "temps_f = (temps_c * 9/5) + 32\n",
        "\n",
        "print(\"Monthly Temperatures (°C):\", temps_c)\n",
        "print(\"Average Temperature (°C):\", round(avg_temp, 2))\n",
        "print(\"Hottest Month:\", hottest_month, \"->\", temps_c.max(), \"°C\")\n",
        "print(\"Coldest Month:\", coldest_month, \"->\", temps_c.min(), \"°C\")\n",
        "print(\"Normalized Temps:\", np.round(temps_norm, 2))\n",
        "print(\"Months above average:\", above_avg_months)\n",
        "print(\"Temperatures in Fahrenheit:\", np.round(temps_f, 1))"
      ],
      "metadata": {
        "colab": {
          "base_uri": "https://localhost:8080/"
        },
        "id": "Jn4YFuBOMgO3",
        "outputId": "ab8e327a-f1cb-4e5c-b166-530764e81a44"
      },
      "execution_count": 1,
      "outputs": [
        {
          "output_type": "stream",
          "name": "stdout",
          "text": [
            "Monthly Temperatures (°C): [12.5 15.2 20.1 25.3 30.5 35.  33.8 32.1 28.4 22.  18.1 14.3]\n",
            "Average Temperature (°C): 23.94\n",
            "Hottest Month: Jun -> 35.0 °C\n",
            "Coldest Month: Jan -> 12.5 °C\n",
            "Normalized Temps: [0.   0.12 0.34 0.57 0.8  1.   0.95 0.87 0.71 0.42 0.25 0.08]\n",
            "Months above average: ['Apr' 'May' 'Jun' 'Jul' 'Aug' 'Sep']\n",
            "Temperatures in Fahrenheit: [54.5 59.4 68.2 77.5 86.9 95.  92.8 89.8 83.1 71.6 64.6 57.7]\n"
          ]
        }
      ]
    },
    {
      "cell_type": "markdown",
      "source": [
        "# **Simulate basic e-commerce sales data and manipulate it using pandas Data Frame.**"
      ],
      "metadata": {
        "id": "Jx75o7m2M9j-"
      }
    },
    {
      "cell_type": "code",
      "source": [
        "import pandas as pd\n",
        "\n",
        "# ---------------- Simulate Data ----------------\n",
        "data = {\n",
        "    \"OrderID\": [101, 102, 103, 104, 105, 106, 107],\n",
        "    \"Product\": [\"Laptop\", \"Mobile\", \"Headphones\", \"Laptop\", \"Keyboard\", \"Mobile\", \"Laptop\"],\n",
        "    \"Quantity\": [1, 3, 5, 2, 4, 1, 1],\n",
        "    \"Price\": [75000, 20000, 1500, 72000, 2000, 21000, 76000]\n",
        "}\n",
        "\n",
        "df = pd.DataFrame(data)\n",
        "\n",
        "df[\"TotalSale\"] = df[\"Quantity\"] * df[\"Price\"]\n",
        "\n",
        "high_sales = df[df[\"TotalSale\"] > 1000]\n",
        "\n",
        "most_sold = df.groupby(\"Product\")[\"Quantity\"].sum().sort_values(ascending=False)\n",
        "\n",
        "df[\"Discount\"] = df[\"TotalSale\"].apply(lambda x: x * 0.1 if x > 50000 else x * 0.05)\n",
        "\n",
        "with pd.ExcelWriter(\"sales_summary.xlsx\") as writer:\n",
        "    df.to_excel(writer, sheet_name=\"SalesData\", index=False)\n",
        "    high_sales.to_excel(writer, sheet_name=\"HighValueOrders\", index=False)\n",
        "    most_sold.to_excel(writer, sheet_name=\"MostSoldProducts\")\n",
        "\n",
        "print(\"Original Sales Data:\\n\", df, \"\\n\")\n",
        "print(\"Orders with Total Sale > 1000:\\n\", high_sales, \"\\n\")\n",
        "print(\"Most Sold Products:\\n\", most_sold, \"\\n\")\n",
        "print(\"Summary exported to 'sales_summary.xlsx'\")"
      ],
      "metadata": {
        "colab": {
          "base_uri": "https://localhost:8080/"
        },
        "id": "uFmsOJanM5wt",
        "outputId": "a157b920-aa70-4f48-c9e0-0201c2fdaa7b"
      },
      "execution_count": 3,
      "outputs": [
        {
          "output_type": "stream",
          "name": "stdout",
          "text": [
            "Original Sales Data:\n",
            "    OrderID     Product  Quantity  Price  TotalSale  Discount\n",
            "0      101      Laptop         1  75000      75000    7500.0\n",
            "1      102      Mobile         3  20000      60000    6000.0\n",
            "2      103  Headphones         5   1500       7500     375.0\n",
            "3      104      Laptop         2  72000     144000   14400.0\n",
            "4      105    Keyboard         4   2000       8000     400.0\n",
            "5      106      Mobile         1  21000      21000    1050.0\n",
            "6      107      Laptop         1  76000      76000    7600.0 \n",
            "\n",
            "Orders with Total Sale > 1000:\n",
            "    OrderID     Product  Quantity  Price  TotalSale\n",
            "0      101      Laptop         1  75000      75000\n",
            "1      102      Mobile         3  20000      60000\n",
            "2      103  Headphones         5   1500       7500\n",
            "3      104      Laptop         2  72000     144000\n",
            "4      105    Keyboard         4   2000       8000\n",
            "5      106      Mobile         1  21000      21000\n",
            "6      107      Laptop         1  76000      76000 \n",
            "\n",
            "Most Sold Products:\n",
            " Product\n",
            "Headphones    5\n",
            "Keyboard      4\n",
            "Laptop        4\n",
            "Mobile        4\n",
            "Name: Quantity, dtype: int64 \n",
            "\n",
            "Summary exported to 'sales_summary.xlsx'\n"
          ]
        }
      ]
    },
    {
      "cell_type": "code",
      "source": [
        "import numpy as np\n",
        "import pandas as pd\n",
        "arr=[[100,50,60],[85,75,60],[70,80,90]]\n",
        "arr=np.array(arr)\n",
        "c=1\n",
        "for i in arr:\n",
        "  print(\"The avg marks,min and max marks of std \",c,sum(i)/len(i),min(i),max(i))\n",
        "  c+=1"
      ],
      "metadata": {
        "colab": {
          "base_uri": "https://localhost:8080/"
        },
        "id": "8D12gobnEC0V",
        "outputId": "9e42db56-9d41-4e95-f58e-fb861f264f3e"
      },
      "execution_count": 2,
      "outputs": [
        {
          "output_type": "stream",
          "name": "stdout",
          "text": [
            "The avg marks,min and max marks of std  1 70.0 50 100\n",
            "The avg marks,min and max marks of std  2 73.33333333333333 60 85\n",
            "The avg marks,min and max marks of std  3 80.0 70 90\n"
          ]
        }
      ]
    },
    {
      "cell_type": "code",
      "source": [
        "print(\"The marks of std1 in subect 1\",arr[0][0])"
      ],
      "metadata": {
        "colab": {
          "base_uri": "https://localhost:8080/"
        },
        "id": "peU8nlx1HIDj",
        "outputId": "11071222-3a0f-4cb4-eca0-f4bd8dff286b"
      },
      "execution_count": null,
      "outputs": [
        {
          "output_type": "stream",
          "name": "stdout",
          "text": [
            "The marks of std1 in subect 1 100\n"
          ]
        }
      ]
    }
  ]
}